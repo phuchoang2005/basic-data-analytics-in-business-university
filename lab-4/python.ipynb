{
 "cells": [
  {
   "cell_type": "markdown",
   "id": "26c977cc",
   "metadata": {},
   "source": [
    "# Nhập file"
   ]
  },
  {
   "cell_type": "code",
   "execution_count": 1,
   "id": "a1003413",
   "metadata": {},
   "outputs": [
    {
     "name": "stdout",
     "output_type": "stream",
     "text": [
      "   ID  PROCALCITONIN  DEATH\n",
      "0   1            0.1      0\n",
      "1   2            0.2      0\n",
      "2   3            0.0      0\n",
      "3   4            0.4      0\n",
      "4   5            0.5      0\n"
     ]
    }
   ],
   "source": [
    "import pandas as pd\n",
    "import statsmodels.api as sm\n",
    "\n",
    "df = pd.read_csv(\"Death_Probability.csv\")\n",
    "\n",
    "print(df.head())"
   ]
  },
  {
   "cell_type": "markdown",
   "id": "a40d5874",
   "metadata": {},
   "source": [
    "# Xác định biến độc lập X và biến phụ thuộc Y"
   ]
  },
  {
   "cell_type": "code",
   "execution_count": 2,
   "id": "3fc740b7",
   "metadata": {},
   "outputs": [],
   "source": [
    "\n",
    "X = df[[\"PROCALCITONIN\"]]\n",
    "y = df[\"DEATH\"]"
   ]
  },
  {
   "cell_type": "markdown",
   "id": "9b6f570e",
   "metadata": {},
   "source": [
    "# Thêm cột hệ số chặn"
   ]
  },
  {
   "cell_type": "code",
   "execution_count": 3,
   "id": "42083976",
   "metadata": {},
   "outputs": [],
   "source": [
    "X = sm.add_constant(X)"
   ]
  },
  {
   "cell_type": "markdown",
   "id": "ce65e791",
   "metadata": {},
   "source": [
    "# Xây dựng mô hình hồi quy logistic"
   ]
  },
  {
   "cell_type": "code",
   "execution_count": 4,
   "id": "18d5291a",
   "metadata": {},
   "outputs": [
    {
     "name": "stdout",
     "output_type": "stream",
     "text": [
      "Optimization terminated successfully.\n",
      "         Current function value: 0.377727\n",
      "         Iterations 7\n",
      "                           Logit Regression Results                           \n",
      "==============================================================================\n",
      "Dep. Variable:                  DEATH   No. Observations:                   20\n",
      "Model:                          Logit   Df Residuals:                       18\n",
      "Method:                           MLE   Df Model:                            1\n",
      "Date:                Thu, 16 Oct 2025   Pseudo R-squ.:                  0.4511\n",
      "Time:                        16:00:35   Log-Likelihood:                -7.5545\n",
      "converged:                       True   LL-Null:                       -13.763\n",
      "Covariance Type:            nonrobust   LLR p-value:                 0.0004256\n",
      "=================================================================================\n",
      "                    coef    std err          z      P>|z|      [0.025      0.975]\n",
      "---------------------------------------------------------------------------------\n",
      "const            -3.0791      1.480     -2.080      0.038      -5.980      -0.178\n",
      "PROCALCITONIN     5.0369      2.186      2.304      0.021       0.751       9.322\n",
      "=================================================================================\n"
     ]
    }
   ],
   "source": [
    "model = sm.Logit(y, X)\n",
    "result = model.fit()\n",
    "\n",
    "print(result.summary())"
   ]
  },
  {
   "cell_type": "markdown",
   "id": "fbb8f27f",
   "metadata": {},
   "source": [
    "# Trích xuất hệ số để viết phương trình"
   ]
  },
  {
   "cell_type": "code",
   "execution_count": 5,
   "id": "ca26b961",
   "metadata": {},
   "outputs": [],
   "source": [
    "b0 = result.params['const']\n",
    "b1 = result.params['PROCALCITONIN']"
   ]
  },
  {
   "cell_type": "markdown",
   "id": "0071ba58",
   "metadata": {},
   "source": [
    "# Thực hiện tính phương trình hồi quy logistic và dự đoán xác suất tử vong"
   ]
  },
  {
   "cell_type": "code",
   "execution_count": 6,
   "id": "e16e80b7",
   "metadata": {},
   "outputs": [
    {
     "name": "stdout",
     "output_type": "stream",
     "text": [
      "\n",
      "Phương trình hồi quy logistic:\n",
      "p = 1 / (1 + e^(-(-3.0791 + 5.0369 * PROCALCITONIN)))\n",
      "\n",
      "Dự đoán xác suất tử vong:\n",
      "   ID  PROCALCITONIN  Predicted_Prob\n",
      "0   1            0.1        0.070736\n",
      "1   2            0.2        0.111872\n",
      "2   3            0.0        0.043976\n",
      "3   4            0.4        0.256473\n",
      "4   5            0.5        0.363387\n"
     ]
    }
   ],
   "source": [
    "print(\"\\nPhương trình hồi quy logistic:\")\n",
    "print(f\"p = 1 / (1 + e^(-({b0:.4f} + {b1:.4f} * PROCALCITONIN)))\")\n",
    "\n",
    "df['Predicted_Prob'] = result.predict(X)\n",
    "print(\"\\nDự đoán xác suất tử vong:\")\n",
    "print(df[['ID', 'PROCALCITONIN', 'Predicted_Prob']].head())"
   ]
  },
  {
   "cell_type": "code",
   "execution_count": 7,
   "id": "0c903c4a",
   "metadata": {},
   "outputs": [],
   "source": [
    "import numpy as np\n",
    "\n",
    "b0 = result.params['const']\n",
    "b1 = result.params['PROCALCITONIN']"
   ]
  },
  {
   "cell_type": "markdown",
   "id": "6e3b09ad",
   "metadata": {},
   "source": [
    "# Tính odds cho PROCALCITIONIN = 0 VÀ 1"
   ]
  },
  {
   "cell_type": "code",
   "execution_count": 8,
   "id": "40f8e567",
   "metadata": {},
   "outputs": [],
   "source": [
    "odds_0 = np.exp(b0 + b1 * 0)\n",
    "odds_1 = np.exp(b0 + b1 * 1)"
   ]
  },
  {
   "cell_type": "markdown",
   "id": "81bad27f",
   "metadata": {},
   "source": [
    "# Tỷ lệ so sánh"
   ]
  },
  {
   "cell_type": "code",
   "execution_count": 9,
   "id": "c0cde247",
   "metadata": {},
   "outputs": [
    {
     "name": "stdout",
     "output_type": "stream",
     "text": [
      "Odds khi PROCALCITONIN = 0: 0.0460\n",
      "Odds khi PROCALCITONIN = 1: 7.0833\n",
      "Tỷ lệ odds tăng khi PROCALCITONIN tăng 1 ng/ml: e^(b1) = 153.9884\n"
     ]
    }
   ],
   "source": [
    "odds_ratio = odds_1 / odds_0\n",
    "\n",
    "print(f\"Odds khi PROCALCITONIN = 0: {odds_0:.4f}\")\n",
    "print(f\"Odds khi PROCALCITONIN = 1: {odds_1:.4f}\")\n",
    "print(f\"Tỷ lệ odds tăng khi PROCALCITONIN tăng 1 ng/ml: e^(b1) = {odds_ratio:.4f}\")"
   ]
  },
  {
   "cell_type": "markdown",
   "id": "1676e3b1",
   "metadata": {},
   "source": [
    "# Diễn giải"
   ]
  },
  {
   "cell_type": "code",
   "execution_count": 10,
   "id": "52309683",
   "metadata": {},
   "outputs": [
    {
     "name": "stdout",
     "output_type": "stream",
     "text": [
      "Khi PROCALCITONIN tăng 1 ng/ml, khả năng tử vong tăng 153.99 lần.\n"
     ]
    }
   ],
   "source": [
    "if odds_ratio > 1:\n",
    "    print(f\"Khi PROCALCITONIN tăng 1 ng/ml, khả năng tử vong tăng {odds_ratio:.2f} lần.\")\n",
    "else:\n",
    "    print(f\"Khi PROCALCITONIN tăng 1 ng/ml, khả năng tử vong giảm {(1/odds_ratio):.2f} lần.\")"
   ]
  }
 ],
 "metadata": {
  "kernelspec": {
   "display_name": ".venv",
   "language": "python",
   "name": "python3"
  },
  "language_info": {
   "codemirror_mode": {
    "name": "ipython",
    "version": 3
   },
   "file_extension": ".py",
   "mimetype": "text/x-python",
   "name": "python",
   "nbconvert_exporter": "python",
   "pygments_lexer": "ipython3",
   "version": "3.11.13"
  }
 },
 "nbformat": 4,
 "nbformat_minor": 5
}
